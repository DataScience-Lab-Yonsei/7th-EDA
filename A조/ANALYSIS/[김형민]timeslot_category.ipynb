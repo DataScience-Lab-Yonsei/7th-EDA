{
 "cells": [
  {
   "cell_type": "code",
   "execution_count": 1,
   "id": "cb447037",
   "metadata": {},
   "outputs": [
    {
     "name": "stdout",
     "output_type": "stream",
     "text": [
      "Requirement already satisfied: pandas-profiling==2.7.1 in c:\\users\\hm061\\anaconda3\\lib\\site-packages (2.7.1)\n",
      "Requirement already satisfied: confuse>=1.0.0 in c:\\users\\hm061\\anaconda3\\lib\\site-packages (from pandas-profiling==2.7.1) (1.7.0)\n",
      "Requirement already satisfied: htmlmin>=0.1.12 in c:\\users\\hm061\\anaconda3\\lib\\site-packages (from pandas-profiling==2.7.1) (0.1.12)\n",
      "Requirement already satisfied: visions[type_image_path]==0.4.1 in c:\\users\\hm061\\anaconda3\\lib\\site-packages (from pandas-profiling==2.7.1) (0.4.1)\n",
      "Requirement already satisfied: missingno>=0.4.2 in c:\\users\\hm061\\anaconda3\\lib\\site-packages (from pandas-profiling==2.7.1) (0.5.0)\n",
      "Requirement already satisfied: requests>=2.23.0 in c:\\users\\hm061\\anaconda3\\lib\\site-packages (from pandas-profiling==2.7.1) (2.27.1)\n",
      "Requirement already satisfied: pandas!=1.0.0,!=1.0.1,!=1.0.2,>=0.25.3 in c:\\users\\hm061\\anaconda3\\lib\\site-packages (from pandas-profiling==2.7.1) (1.3.5)\n",
      "Requirement already satisfied: joblib in c:\\users\\hm061\\anaconda3\\lib\\site-packages (from pandas-profiling==2.7.1) (1.1.0)\n",
      "Requirement already satisfied: jinja2>=2.11.1 in c:\\users\\hm061\\anaconda3\\lib\\site-packages (from pandas-profiling==2.7.1) (2.11.3)\n",
      "Requirement already satisfied: tangled-up-in-unicode>=0.0.4 in c:\\users\\hm061\\anaconda3\\lib\\site-packages (from pandas-profiling==2.7.1) (0.2.0)\n",
      "Requirement already satisfied: tqdm>=4.43.0 in c:\\users\\hm061\\anaconda3\\lib\\site-packages (from pandas-profiling==2.7.1) (4.62.3)\n",
      "Requirement already satisfied: ipywidgets>=7.5.1 in c:\\users\\hm061\\anaconda3\\lib\\site-packages (from pandas-profiling==2.7.1) (7.6.5)\n",
      "Requirement already satisfied: phik>=0.9.10 in c:\\users\\hm061\\anaconda3\\lib\\site-packages (from pandas-profiling==2.7.1) (0.12.0)\n",
      "Requirement already satisfied: astropy>=4.0 in c:\\users\\hm061\\anaconda3\\lib\\site-packages (from pandas-profiling==2.7.1) (4.3.1)\n",
      "Requirement already satisfied: numpy>=1.16.0 in c:\\users\\hm061\\anaconda3\\lib\\site-packages (from pandas-profiling==2.7.1) (1.21.2)\n",
      "Requirement already satisfied: scipy>=1.4.1 in c:\\users\\hm061\\anaconda3\\lib\\site-packages (from pandas-profiling==2.7.1) (1.7.3)\n",
      "Requirement already satisfied: matplotlib>=3.2.0 in c:\\users\\hm061\\anaconda3\\lib\\site-packages (from pandas-profiling==2.7.1) (3.5.0)\n",
      "Requirement already satisfied: networkx>=2.4 in c:\\users\\hm061\\anaconda3\\lib\\site-packages (from visions[type_image_path]==0.4.1->pandas-profiling==2.7.1) (2.6.3)\n",
      "Requirement already satisfied: attrs>=19.3.0 in c:\\users\\hm061\\anaconda3\\lib\\site-packages (from visions[type_image_path]==0.4.1->pandas-profiling==2.7.1) (21.2.0)\n",
      "Requirement already satisfied: imagehash in c:\\users\\hm061\\anaconda3\\lib\\site-packages (from visions[type_image_path]==0.4.1->pandas-profiling==2.7.1) (4.2.1)\n",
      "Requirement already satisfied: Pillow in c:\\users\\hm061\\anaconda3\\lib\\site-packages (from visions[type_image_path]==0.4.1->pandas-profiling==2.7.1) (8.4.0)\n",
      "Requirement already satisfied: importlib-metadata in c:\\users\\hm061\\anaconda3\\lib\\site-packages (from astropy>=4.0->pandas-profiling==2.7.1) (4.8.2)\n",
      "Requirement already satisfied: pyerfa>=1.7.3 in c:\\users\\hm061\\anaconda3\\lib\\site-packages (from astropy>=4.0->pandas-profiling==2.7.1) (2.0.0)\n",
      "Requirement already satisfied: pyyaml in c:\\users\\hm061\\anaconda3\\lib\\site-packages (from confuse>=1.0.0->pandas-profiling==2.7.1) (6.0)\n",
      "Requirement already satisfied: traitlets>=4.3.1 in c:\\users\\hm061\\anaconda3\\lib\\site-packages (from ipywidgets>=7.5.1->pandas-profiling==2.7.1) (5.1.1)\n",
      "Requirement already satisfied: jupyterlab-widgets>=1.0.0 in c:\\users\\hm061\\anaconda3\\lib\\site-packages (from ipywidgets>=7.5.1->pandas-profiling==2.7.1) (1.0.0)\n",
      "Requirement already satisfied: ipykernel>=4.5.1 in c:\\users\\hm061\\anaconda3\\lib\\site-packages (from ipywidgets>=7.5.1->pandas-profiling==2.7.1) (6.4.1)\n",
      "Requirement already satisfied: ipython-genutils~=0.2.0 in c:\\users\\hm061\\anaconda3\\lib\\site-packages (from ipywidgets>=7.5.1->pandas-profiling==2.7.1) (0.2.0)\n",
      "Requirement already satisfied: widgetsnbextension~=3.5.0 in c:\\users\\hm061\\anaconda3\\lib\\site-packages (from ipywidgets>=7.5.1->pandas-profiling==2.7.1) (3.5.1)\n",
      "Requirement already satisfied: nbformat>=4.2.0 in c:\\users\\hm061\\anaconda3\\lib\\site-packages (from ipywidgets>=7.5.1->pandas-profiling==2.7.1) (5.1.3)\n",
      "Requirement already satisfied: ipython>=4.0.0 in c:\\users\\hm061\\anaconda3\\lib\\site-packages (from ipywidgets>=7.5.1->pandas-profiling==2.7.1) (7.29.0)\n",
      "Requirement already satisfied: debugpy<2.0,>=1.0.0 in c:\\users\\hm061\\anaconda3\\lib\\site-packages (from ipykernel>=4.5.1->ipywidgets>=7.5.1->pandas-profiling==2.7.1) (1.5.1)\n",
      "Requirement already satisfied: matplotlib-inline<0.2.0,>=0.1.0 in c:\\users\\hm061\\anaconda3\\lib\\site-packages (from ipykernel>=4.5.1->ipywidgets>=7.5.1->pandas-profiling==2.7.1) (0.1.2)\n",
      "Requirement already satisfied: tornado<7.0,>=4.2 in c:\\users\\hm061\\anaconda3\\lib\\site-packages (from ipykernel>=4.5.1->ipywidgets>=7.5.1->pandas-profiling==2.7.1) (6.1)\n",
      "Requirement already satisfied: jupyter-client<8.0 in c:\\users\\hm061\\anaconda3\\lib\\site-packages (from ipykernel>=4.5.1->ipywidgets>=7.5.1->pandas-profiling==2.7.1) (6.1.12)\n",
      "Requirement already satisfied: argcomplete>=1.12.3 in c:\\users\\hm061\\anaconda3\\lib\\site-packages (from ipykernel>=4.5.1->ipywidgets>=7.5.1->pandas-profiling==2.7.1) (1.12.3)\n",
      "Requirement already satisfied: typing-extensions>=3.6.4 in c:\\users\\hm061\\anaconda3\\lib\\site-packages (from importlib-metadata->astropy>=4.0->pandas-profiling==2.7.1) (4.0.1)\n",
      "Requirement already satisfied: zipp>=0.5 in c:\\users\\hm061\\anaconda3\\lib\\site-packages (from importlib-metadata->astropy>=4.0->pandas-profiling==2.7.1) (3.7.0)\n",
      "Requirement already satisfied: backcall in c:\\users\\hm061\\anaconda3\\lib\\site-packages (from ipython>=4.0.0->ipywidgets>=7.5.1->pandas-profiling==2.7.1) (0.2.0)\n",
      "Requirement already satisfied: jedi>=0.16 in c:\\users\\hm061\\anaconda3\\lib\\site-packages (from ipython>=4.0.0->ipywidgets>=7.5.1->pandas-profiling==2.7.1) (0.18.0)\n",
      "Requirement already satisfied: colorama in c:\\users\\hm061\\anaconda3\\lib\\site-packages (from ipython>=4.0.0->ipywidgets>=7.5.1->pandas-profiling==2.7.1) (0.4.4)\n",
      "Requirement already satisfied: setuptools>=18.5 in c:\\users\\hm061\\anaconda3\\lib\\site-packages (from ipython>=4.0.0->ipywidgets>=7.5.1->pandas-profiling==2.7.1) (58.0.4)\n",
      "Requirement already satisfied: prompt-toolkit!=3.0.0,!=3.0.1,<3.1.0,>=2.0.0 in c:\\users\\hm061\\anaconda3\\lib\\site-packages (from ipython>=4.0.0->ipywidgets>=7.5.1->pandas-profiling==2.7.1) (3.0.20)\n",
      "Requirement already satisfied: pygments in c:\\users\\hm061\\anaconda3\\lib\\site-packages (from ipython>=4.0.0->ipywidgets>=7.5.1->pandas-profiling==2.7.1) (2.10.0)\n",
      "Requirement already satisfied: decorator in c:\\users\\hm061\\anaconda3\\lib\\site-packages (from ipython>=4.0.0->ipywidgets>=7.5.1->pandas-profiling==2.7.1) (5.1.0)\n",
      "Requirement already satisfied: pickleshare in c:\\users\\hm061\\anaconda3\\lib\\site-packages (from ipython>=4.0.0->ipywidgets>=7.5.1->pandas-profiling==2.7.1) (0.7.5)\n",
      "Requirement already satisfied: parso<0.9.0,>=0.8.0 in c:\\users\\hm061\\anaconda3\\lib\\site-packages (from jedi>=0.16->ipython>=4.0.0->ipywidgets>=7.5.1->pandas-profiling==2.7.1) (0.8.3)\n",
      "Requirement already satisfied: MarkupSafe>=0.23 in c:\\users\\hm061\\anaconda3\\lib\\site-packages (from jinja2>=2.11.1->pandas-profiling==2.7.1) (1.1.1)\n",
      "Requirement already satisfied: pyzmq>=13 in c:\\users\\hm061\\anaconda3\\lib\\site-packages (from jupyter-client<8.0->ipykernel>=4.5.1->ipywidgets>=7.5.1->pandas-profiling==2.7.1) (22.3.0)\n",
      "Requirement already satisfied: jupyter-core>=4.6.0 in c:\\users\\hm061\\anaconda3\\lib\\site-packages (from jupyter-client<8.0->ipykernel>=4.5.1->ipywidgets>=7.5.1->pandas-profiling==2.7.1) (4.9.1)\n",
      "Requirement already satisfied: python-dateutil>=2.1 in c:\\users\\hm061\\anaconda3\\lib\\site-packages (from jupyter-client<8.0->ipykernel>=4.5.1->ipywidgets>=7.5.1->pandas-profiling==2.7.1) (2.8.2)\n",
      "Requirement already satisfied: pywin32>=1.0 in c:\\users\\hm061\\anaconda3\\lib\\site-packages (from jupyter-core>=4.6.0->jupyter-client<8.0->ipykernel>=4.5.1->ipywidgets>=7.5.1->pandas-profiling==2.7.1) (302)\n",
      "Requirement already satisfied: pyparsing>=2.2.1 in c:\\users\\hm061\\anaconda3\\lib\\site-packages (from matplotlib>=3.2.0->pandas-profiling==2.7.1) (3.0.4)\n",
      "Requirement already satisfied: cycler>=0.10 in c:\\users\\hm061\\anaconda3\\lib\\site-packages (from matplotlib>=3.2.0->pandas-profiling==2.7.1) (0.11.0)\n",
      "Requirement already satisfied: fonttools>=4.22.0 in c:\\users\\hm061\\anaconda3\\lib\\site-packages (from matplotlib>=3.2.0->pandas-profiling==2.7.1) (4.25.0)\n",
      "Requirement already satisfied: kiwisolver>=1.0.1 in c:\\users\\hm061\\anaconda3\\lib\\site-packages (from matplotlib>=3.2.0->pandas-profiling==2.7.1) (1.3.1)\n",
      "Requirement already satisfied: packaging>=20.0 in c:\\users\\hm061\\anaconda3\\lib\\site-packages (from matplotlib>=3.2.0->pandas-profiling==2.7.1) (21.3)\n",
      "Requirement already satisfied: seaborn in c:\\users\\hm061\\anaconda3\\lib\\site-packages (from missingno>=0.4.2->pandas-profiling==2.7.1) (0.11.2)\n",
      "Requirement already satisfied: jsonschema!=2.5.0,>=2.4 in c:\\users\\hm061\\anaconda3\\lib\\site-packages (from nbformat>=4.2.0->ipywidgets>=7.5.1->pandas-profiling==2.7.1) (3.2.0)\n",
      "Requirement already satisfied: pyrsistent>=0.14.0 in c:\\users\\hm061\\anaconda3\\lib\\site-packages (from jsonschema!=2.5.0,>=2.4->nbformat>=4.2.0->ipywidgets>=7.5.1->pandas-profiling==2.7.1) (0.18.0)\n",
      "Requirement already satisfied: six>=1.11.0 in c:\\users\\hm061\\anaconda3\\lib\\site-packages (from jsonschema!=2.5.0,>=2.4->nbformat>=4.2.0->ipywidgets>=7.5.1->pandas-profiling==2.7.1) (1.16.0)\n",
      "Requirement already satisfied: pytz>=2017.3 in c:\\users\\hm061\\anaconda3\\lib\\site-packages (from pandas!=1.0.0,!=1.0.1,!=1.0.2,>=0.25.3->pandas-profiling==2.7.1) (2021.3)\n",
      "Requirement already satisfied: wcwidth in c:\\users\\hm061\\anaconda3\\lib\\site-packages (from prompt-toolkit!=3.0.0,!=3.0.1,<3.1.0,>=2.0.0->ipython>=4.0.0->ipywidgets>=7.5.1->pandas-profiling==2.7.1) (0.2.5)\n",
      "Requirement already satisfied: charset-normalizer~=2.0.0 in c:\\users\\hm061\\anaconda3\\lib\\site-packages (from requests>=2.23.0->pandas-profiling==2.7.1) (2.0.4)\n",
      "Requirement already satisfied: idna<4,>=2.5 in c:\\users\\hm061\\anaconda3\\lib\\site-packages (from requests>=2.23.0->pandas-profiling==2.7.1) (3.3)\n",
      "Requirement already satisfied: certifi>=2017.4.17 in c:\\users\\hm061\\anaconda3\\lib\\site-packages (from requests>=2.23.0->pandas-profiling==2.7.1) (2021.10.8)\n",
      "Requirement already satisfied: urllib3<1.27,>=1.21.1 in c:\\users\\hm061\\anaconda3\\lib\\site-packages (from requests>=2.23.0->pandas-profiling==2.7.1) (1.26.7)\n",
      "Requirement already satisfied: notebook>=4.4.1 in c:\\users\\hm061\\anaconda3\\lib\\site-packages (from widgetsnbextension~=3.5.0->ipywidgets>=7.5.1->pandas-profiling==2.7.1) (6.4.6)\n",
      "Requirement already satisfied: Send2Trash>=1.8.0 in c:\\users\\hm061\\anaconda3\\lib\\site-packages (from notebook>=4.4.1->widgetsnbextension~=3.5.0->ipywidgets>=7.5.1->pandas-profiling==2.7.1) (1.8.0)\n",
      "Requirement already satisfied: prometheus-client in c:\\users\\hm061\\anaconda3\\lib\\site-packages (from notebook>=4.4.1->widgetsnbextension~=3.5.0->ipywidgets>=7.5.1->pandas-profiling==2.7.1) (0.12.0)\n",
      "Requirement already satisfied: nbconvert in c:\\users\\hm061\\anaconda3\\lib\\site-packages (from notebook>=4.4.1->widgetsnbextension~=3.5.0->ipywidgets>=7.5.1->pandas-profiling==2.7.1) (6.1.0)\n",
      "Requirement already satisfied: nest-asyncio>=1.5 in c:\\users\\hm061\\anaconda3\\lib\\site-packages (from notebook>=4.4.1->widgetsnbextension~=3.5.0->ipywidgets>=7.5.1->pandas-profiling==2.7.1) (1.5.1)\n",
      "Requirement already satisfied: terminado>=0.8.3 in c:\\users\\hm061\\anaconda3\\lib\\site-packages (from notebook>=4.4.1->widgetsnbextension~=3.5.0->ipywidgets>=7.5.1->pandas-profiling==2.7.1) (0.9.4)\n",
      "Requirement already satisfied: argon2-cffi in c:\\users\\hm061\\anaconda3\\lib\\site-packages (from notebook>=4.4.1->widgetsnbextension~=3.5.0->ipywidgets>=7.5.1->pandas-profiling==2.7.1) (20.1.0)\n",
      "Requirement already satisfied: pywinpty>=0.5 in c:\\users\\hm061\\anaconda3\\lib\\site-packages (from terminado>=0.8.3->notebook>=4.4.1->widgetsnbextension~=3.5.0->ipywidgets>=7.5.1->pandas-profiling==2.7.1) (0.5.7)\n",
      "Requirement already satisfied: cffi>=1.0.0 in c:\\users\\hm061\\anaconda3\\lib\\site-packages (from argon2-cffi->notebook>=4.4.1->widgetsnbextension~=3.5.0->ipywidgets>=7.5.1->pandas-profiling==2.7.1) (1.15.0)\n",
      "Requirement already satisfied: pycparser in c:\\users\\hm061\\anaconda3\\lib\\site-packages (from cffi>=1.0.0->argon2-cffi->notebook>=4.4.1->widgetsnbextension~=3.5.0->ipywidgets>=7.5.1->pandas-profiling==2.7.1) (2.21)\n",
      "Requirement already satisfied: PyWavelets in c:\\users\\hm061\\anaconda3\\lib\\site-packages (from imagehash->visions[type_image_path]==0.4.1->pandas-profiling==2.7.1) (1.1.1)\n",
      "Requirement already satisfied: bleach in c:\\users\\hm061\\anaconda3\\lib\\site-packages (from nbconvert->notebook>=4.4.1->widgetsnbextension~=3.5.0->ipywidgets>=7.5.1->pandas-profiling==2.7.1) (4.1.0)\n",
      "Requirement already satisfied: nbclient<0.6.0,>=0.5.0 in c:\\users\\hm061\\anaconda3\\lib\\site-packages (from nbconvert->notebook>=4.4.1->widgetsnbextension~=3.5.0->ipywidgets>=7.5.1->pandas-profiling==2.7.1) (0.5.3)\n",
      "Requirement already satisfied: defusedxml in c:\\users\\hm061\\anaconda3\\lib\\site-packages (from nbconvert->notebook>=4.4.1->widgetsnbextension~=3.5.0->ipywidgets>=7.5.1->pandas-profiling==2.7.1) (0.7.1)\n",
      "Requirement already satisfied: jupyterlab-pygments in c:\\users\\hm061\\anaconda3\\lib\\site-packages (from nbconvert->notebook>=4.4.1->widgetsnbextension~=3.5.0->ipywidgets>=7.5.1->pandas-profiling==2.7.1) (0.1.2)\n",
      "Requirement already satisfied: pandocfilters>=1.4.1 in c:\\users\\hm061\\anaconda3\\lib\\site-packages (from nbconvert->notebook>=4.4.1->widgetsnbextension~=3.5.0->ipywidgets>=7.5.1->pandas-profiling==2.7.1) (1.4.3)\n",
      "Requirement already satisfied: mistune<2,>=0.8.1 in c:\\users\\hm061\\anaconda3\\lib\\site-packages (from nbconvert->notebook>=4.4.1->widgetsnbextension~=3.5.0->ipywidgets>=7.5.1->pandas-profiling==2.7.1) (0.8.4)\n",
      "Requirement already satisfied: entrypoints>=0.2.2 in c:\\users\\hm061\\anaconda3\\lib\\site-packages (from nbconvert->notebook>=4.4.1->widgetsnbextension~=3.5.0->ipywidgets>=7.5.1->pandas-profiling==2.7.1) (0.3)\n",
      "Requirement already satisfied: testpath in c:\\users\\hm061\\anaconda3\\lib\\site-packages (from nbconvert->notebook>=4.4.1->widgetsnbextension~=3.5.0->ipywidgets>=7.5.1->pandas-profiling==2.7.1) (0.5.0)\n",
      "Requirement already satisfied: async-generator in c:\\users\\hm061\\anaconda3\\lib\\site-packages (from nbclient<0.6.0,>=0.5.0->nbconvert->notebook>=4.4.1->widgetsnbextension~=3.5.0->ipywidgets>=7.5.1->pandas-profiling==2.7.1) (1.10)\n",
      "Requirement already satisfied: webencodings in c:\\users\\hm061\\anaconda3\\lib\\site-packages (from bleach->nbconvert->notebook>=4.4.1->widgetsnbextension~=3.5.0->ipywidgets>=7.5.1->pandas-profiling==2.7.1) (0.5.1)\n"
     ]
    }
   ],
   "source": [
    "!pip install pandas-profiling==2.7.1"
   ]
  },
  {
   "cell_type": "code",
   "execution_count": 2,
   "id": "a6d90b0a",
   "metadata": {},
   "outputs": [],
   "source": [
    "import pandas as pd\n",
    "import numpy as np\n",
    "import matplotlib.pyplot as plt"
   ]
  },
  {
   "cell_type": "code",
   "execution_count": 3,
   "id": "d13a6dac",
   "metadata": {},
   "outputs": [],
   "source": [
    "tc=pd.read_csv(\"time_category.csv\",index_col=0)                                                        #시간대별 어떤 카테고리가 구매되었는지 파악\n",
    "tc=tc[['order_id','customer_id','order_status','order_timerange','order_day','product_category_name']]\n",
    "tc=tc.dropna(axis=0)\n",
    "translation=pd.read_csv(\"product_category_name_translation.csv\")                                       #포르투갈어로 된 카테고리명을 영어로 표기\n",
    "tc.insert(6,'product_category_name_english',tc['product_category_name'].map(translation.set_index('product_category_name')['product_category_name_english']))"
   ]
  },
  {
   "cell_type": "code",
   "execution_count": 4,
   "id": "895c68a6",
   "metadata": {},
   "outputs": [],
   "source": [
    "items=pd.read_csv(\"olist_order_items_dataset.csv\")\n",
    "timeslot_category = pd.merge(tc, items, on=\"order_id\", how=\"left\")\n",
    "data=timeslot_category[['order_id','order_status','order_timerange','order_day','product_category_name_english','order_item_id']]"
   ]
  },
  {
   "cell_type": "code",
   "execution_count": 5,
   "id": "212461d7",
   "metadata": {},
   "outputs": [],
   "source": [
    "del tc\n",
    "del items"
   ]
  },
  {
   "cell_type": "code",
   "execution_count": 6,
   "id": "8d4d39ba",
   "metadata": {},
   "outputs": [],
   "source": [
    "data0=data[data['order_timerange']==0]\n",
    "data1=data[data['order_timerange']==1]\n",
    "data2=data[data['order_timerange']==2]\n",
    "data3=data[data['order_timerange']==3]     #time_range별로 데이터 분류"
   ]
  },
  {
   "cell_type": "code",
   "execution_count": 7,
   "id": "22db587b",
   "metadata": {},
   "outputs": [],
   "source": [
    "data00 = pd.pivot_table(data0, \n",
    "               index='product_category_name_english', \n",
    "               values='order_status', \n",
    "               aggfunc='count')            #00:00 ~ 06:00 시에 구매한 카테고리별 구매주문 횟수\n",
    "data000=data00.sort_values(by='order_status',ascending=False).head(20) #00:00 ~ 06:00 시에 구매한 카테고리 중 구매주문 횟수가 가장 많은 top20 뽑기"
   ]
  },
  {
   "cell_type": "code",
   "execution_count": 8,
   "id": "770253fe",
   "metadata": {},
   "outputs": [],
   "source": [
    "data11 = pd.pivot_table(data1, \n",
    "               index='product_category_name_english', \n",
    "               values='order_status', \n",
    "               aggfunc='count')            #06:00 ~ 12:00 시에 구매한 카테고리별 구매주문 횟수\n",
    "data111=data11.sort_values(by='order_status',ascending=False).head(20) #06:00 ~ 12:00 시에 구매한 카테고리 중 구매주문 횟수가 가장 많은 top20 뽑기"
   ]
  },
  {
   "cell_type": "code",
   "execution_count": 9,
   "id": "9f5ec6b7",
   "metadata": {},
   "outputs": [],
   "source": [
    "data22 = pd.pivot_table(data2, \n",
    "               index='product_category_name_english', \n",
    "               values='order_status', \n",
    "               aggfunc='count')            #12:00 ~ 18:00 시에 구매한 카테고리별 구매주문 횟수\n",
    "data222=data22.sort_values(by='order_status',ascending=False).head(20) #12:00 ~ 18:00 시에 구매한 카테고리 중 구매주문 횟수가 가장 많은 top20 뽑기"
   ]
  },
  {
   "cell_type": "code",
   "execution_count": 10,
   "id": "2c4724ca",
   "metadata": {},
   "outputs": [],
   "source": [
    "data33 = pd.pivot_table(data3, \n",
    "               index='product_category_name_english', \n",
    "               values='order_status', \n",
    "               aggfunc='count')            #18:00 ~ 24:00 시에 구매한 카테고리별 구매주문 횟수\n",
    "data333=data33.sort_values(by='order_status',ascending=False).head(20) #18:00 ~ 24:00 시에 구매한 카테고리 중 구매주문 횟수가 가장 많은 top20 뽑기"
   ]
  },
  {
   "cell_type": "code",
   "execution_count": 11,
   "id": "889ae136",
   "metadata": {},
   "outputs": [],
   "source": [
    "data_weekday=data[data['order_day']==0]\n",
    "data_weekend=data[data['order_day']==1]     #주중,주말별로 데이터 분류"
   ]
  },
  {
   "cell_type": "code",
   "execution_count": 12,
   "id": "69a60be7",
   "metadata": {},
   "outputs": [
    {
     "data": {
      "text/html": [
       "<div>\n",
       "<style scoped>\n",
       "    .dataframe tbody tr th:only-of-type {\n",
       "        vertical-align: middle;\n",
       "    }\n",
       "\n",
       "    .dataframe tbody tr th {\n",
       "        vertical-align: top;\n",
       "    }\n",
       "\n",
       "    .dataframe thead th {\n",
       "        text-align: right;\n",
       "    }\n",
       "</style>\n",
       "<table border=\"1\" class=\"dataframe\">\n",
       "  <thead>\n",
       "    <tr style=\"text-align: right;\">\n",
       "      <th></th>\n",
       "      <th>order_status</th>\n",
       "    </tr>\n",
       "    <tr>\n",
       "      <th>product_category_name_english</th>\n",
       "      <th></th>\n",
       "    </tr>\n",
       "  </thead>\n",
       "  <tbody>\n",
       "    <tr>\n",
       "      <th>furniture_decor</th>\n",
       "      <td>11197</td>\n",
       "    </tr>\n",
       "    <tr>\n",
       "      <th>bed_bath_table</th>\n",
       "      <td>12069</td>\n",
       "    </tr>\n",
       "    <tr>\n",
       "      <th>sports_leisure</th>\n",
       "      <td>8636</td>\n",
       "    </tr>\n",
       "    <tr>\n",
       "      <th>health_beauty</th>\n",
       "      <td>9113</td>\n",
       "    </tr>\n",
       "    <tr>\n",
       "      <th>housewares</th>\n",
       "      <td>8583</td>\n",
       "    </tr>\n",
       "    <tr>\n",
       "      <th>watches_gifts</th>\n",
       "      <td>5506</td>\n",
       "    </tr>\n",
       "    <tr>\n",
       "      <th>computers_accessories</th>\n",
       "      <td>9811</td>\n",
       "    </tr>\n",
       "    <tr>\n",
       "      <th>garden_tools</th>\n",
       "      <td>5735</td>\n",
       "    </tr>\n",
       "    <tr>\n",
       "      <th>vehicle_related_product</th>\n",
       "      <td>4285</td>\n",
       "    </tr>\n",
       "    <tr>\n",
       "      <th>office_furniture</th>\n",
       "      <td>2769</td>\n",
       "    </tr>\n",
       "  </tbody>\n",
       "</table>\n",
       "</div>"
      ],
      "text/plain": [
       "                               order_status\n",
       "product_category_name_english              \n",
       "furniture_decor                       11197\n",
       "bed_bath_table                        12069\n",
       "sports_leisure                         8636\n",
       "health_beauty                          9113\n",
       "housewares                             8583\n",
       "watches_gifts                          5506\n",
       "computers_accessories                  9811\n",
       "garden_tools                           5735\n",
       "vehicle_related_product                4285\n",
       "office_furniture                       2769"
      ]
     },
     "execution_count": 12,
     "metadata": {},
     "output_type": "execute_result"
    }
   ],
   "source": [
    "dataweekdd = pd.pivot_table(data_weekday, \n",
    "               index='product_category_name_english', \n",
    "               values='order_status', \n",
    "               aggfunc='count')            #주중 카테고리별 구매주문 횟수\n",
    "dataweekddd = dataweekdd.sort_values(by='order_status',ascending=False).head(20) # 주중 구매한 카테고리 중 구매주문 횟수가 가장 많은 top20 뽑기\n",
    "dataweekddd.loc[['furniture_decor','bed_bath_table','sports_leisure','health_beauty','housewares','watches_gifts','computers_accessories','garden_tools','vehicle_related_product','office_furniture']]"
   ]
  },
  {
   "cell_type": "code",
   "execution_count": 13,
   "id": "47ffab12",
   "metadata": {},
   "outputs": [
    {
     "data": {
      "text/html": [
       "<div>\n",
       "<style scoped>\n",
       "    .dataframe tbody tr th:only-of-type {\n",
       "        vertical-align: middle;\n",
       "    }\n",
       "\n",
       "    .dataframe tbody tr th {\n",
       "        vertical-align: top;\n",
       "    }\n",
       "\n",
       "    .dataframe thead th {\n",
       "        text-align: right;\n",
       "    }\n",
       "</style>\n",
       "<table border=\"1\" class=\"dataframe\">\n",
       "  <thead>\n",
       "    <tr style=\"text-align: right;\">\n",
       "      <th></th>\n",
       "      <th>order_status</th>\n",
       "    </tr>\n",
       "    <tr>\n",
       "      <th>product_category_name_english</th>\n",
       "      <th></th>\n",
       "    </tr>\n",
       "  </thead>\n",
       "  <tbody>\n",
       "    <tr>\n",
       "      <th>furniture_decor</th>\n",
       "      <td>3278</td>\n",
       "    </tr>\n",
       "    <tr>\n",
       "      <th>bed_bath_table</th>\n",
       "      <td>3931</td>\n",
       "    </tr>\n",
       "    <tr>\n",
       "      <th>sports_leisure</th>\n",
       "      <td>2322</td>\n",
       "    </tr>\n",
       "    <tr>\n",
       "      <th>health_beauty</th>\n",
       "      <td>3108</td>\n",
       "    </tr>\n",
       "    <tr>\n",
       "      <th>housewares</th>\n",
       "      <td>2288</td>\n",
       "    </tr>\n",
       "    <tr>\n",
       "      <th>watches_gifts</th>\n",
       "      <td>1551</td>\n",
       "    </tr>\n",
       "    <tr>\n",
       "      <th>computers_accessories</th>\n",
       "      <td>1833</td>\n",
       "    </tr>\n",
       "    <tr>\n",
       "      <th>garden_tools</th>\n",
       "      <td>1543</td>\n",
       "    </tr>\n",
       "    <tr>\n",
       "      <th>vehicle_related_product</th>\n",
       "      <td>1128</td>\n",
       "    </tr>\n",
       "    <tr>\n",
       "      <th>office_furniture</th>\n",
       "      <td>576</td>\n",
       "    </tr>\n",
       "  </tbody>\n",
       "</table>\n",
       "</div>"
      ],
      "text/plain": [
       "                               order_status\n",
       "product_category_name_english              \n",
       "furniture_decor                        3278\n",
       "bed_bath_table                         3931\n",
       "sports_leisure                         2322\n",
       "health_beauty                          3108\n",
       "housewares                             2288\n",
       "watches_gifts                          1551\n",
       "computers_accessories                  1833\n",
       "garden_tools                           1543\n",
       "vehicle_related_product                1128\n",
       "office_furniture                        576"
      ]
     },
     "execution_count": 13,
     "metadata": {},
     "output_type": "execute_result"
    }
   ],
   "source": [
    "dataweekendd = pd.pivot_table(data_weekend, \n",
    "               index='product_category_name_english', \n",
    "               values='order_status', \n",
    "               aggfunc='count')            #주말 카테고리별 구매주문 횟수\n",
    "dataweekenddd = dataweekendd.sort_values(by='order_status',ascending=False).head(20) # 주말 구매한 카테고리 중 구매주문 횟수가 가장 많은 top20 뽑기\n",
    "dataweekenddd.loc[['furniture_decor','bed_bath_table','sports_leisure','health_beauty','housewares','watches_gifts','computers_accessories','garden_tools','vehicle_related_product','office_furniture']]"
   ]
  },
  {
   "cell_type": "code",
   "execution_count": 14,
   "id": "c16f7b17",
   "metadata": {},
   "outputs": [],
   "source": [
    "import seaborn as sns"
   ]
  },
  {
   "cell_type": "code",
   "execution_count": 15,
   "id": "c506f60d",
   "metadata": {},
   "outputs": [
    {
     "data": {
      "image/png": "[encoded data removed]",
      "text/plain": [
       "<Figure size 1440x288 with 1 Axes>"
      ]
     },
     "metadata": {
      "needs_background": "light"
     },
     "output_type": "display_data"
    }
   ],
   "source": [
    "x=['furniture_decor','bed_bath_table','sports_leisure','health_beauty','housewares','watches_gifts','computers_accessories','garden_tools','vehicle_related_product','office_furniture']\n",
    "values=[17,16.09,12.56,12.44,11.51,9.18,7.27,5.67,5.27,3.02]\n",
    "plt.figure(figsize=(20,4))\n",
    "plt.title(\"Top 10 Category at Night\")\n",
    "plt.ylim(0,18)\n",
    "colors = sns.color_palette('gist_earth',len(x))\n",
    "plt.bar(x,values,color=colors)                         #00:00 ~ 06:00 주문 top 10 카테고리\n",
    "plt.gca().spines['right'].set_visible(False) #오른쪽 테두리 제거\n",
    "plt.gca().spines['top'].set_visible(False) #위 테두리 제거\n",
    "plt.gca().spines['left'].set_visible(False) #왼쪽 테두리 제거"
   ]
  },
  {
   "cell_type": "code",
   "execution_count": 16,
   "id": "5268ed4f",
   "metadata": {},
   "outputs": [
    {
     "data": {
      "image/png": "[encoded data removed]",
      "text/plain": [
       "<Figure size 1440x288 with 1 Axes>"
      ]
     },
     "metadata": {
      "needs_background": "light"
     },
     "output_type": "display_data"
    }
   ],
   "source": [
    "x=['furniture_decor','bed_bath_table','sports_leisure','health_beauty','housewares','watches_gifts','computers_accessories','garden_tools','vehicle_related_product','office_furniture']\n",
    "values=[12.64,14.76,11.65,11.8,10.3,7.84,14.34,6.87,7.09,2.72]\n",
    "plt.figure(figsize=(20,4))\n",
    "plt.title(\"Top 10 Category in the Morning\")\n",
    "plt.ylim(0,18)\n",
    "colors = sns.color_palette('gist_earth',len(x))\n",
    "plt.bar(x,values,color=colors)                         #06:00 ~ 12:00 주문 top 10 카테고리\n",
    "plt.gca().spines['right'].set_visible(False) #오른쪽 테두리 제거\n",
    "plt.gca().spines['top'].set_visible(False) #위 테두리 제거\n",
    "plt.gca().spines['left'].set_visible(False) #왼쪽 테두리 제거"
   ]
  },
  {
   "cell_type": "code",
   "execution_count": 17,
   "id": "a4b8634c",
   "metadata": {},
   "outputs": [
    {
     "data": {
      "image/png": "[encoded data removed]",
      "text/plain": [
       "<Figure size 1440x288 with 1 Axes>"
      ]
     },
     "metadata": {
      "needs_background": "light"
     },
     "output_type": "display_data"
    }
   ],
   "source": [
    "x=['furniture_decor','bed_bath_table','sports_leisure','health_beauty','housewares','watches_gifts','computers_accessories','garden_tools','vehicle_related_product','office_furniture']\n",
    "values=[13.84,16.18,10.94,11.6,11.63,6.52,13.18,7.17,4.82,4.12]\n",
    "plt.figure(figsize=(20,4))\n",
    "plt.title(\"Top 10 category in the Afternoon\")\n",
    "plt.ylim(0,18)\n",
    "colors = sns.color_palette('gist_earth',len(x))\n",
    "plt.bar(x,values,color=colors)                         #12:00 ~ 18:00 주문 top 10 카테고리\n",
    "plt.gca().spines['right'].set_visible(False) #오른쪽 테두리 제거\n",
    "plt.gca().spines['top'].set_visible(False) #위 테두리 제거\n",
    "plt.gca().spines['left'].set_visible(False) #왼쪽 테두리 제거"
   ]
  },
  {
   "cell_type": "code",
   "execution_count": 18,
   "id": "dfb2870c",
   "metadata": {},
   "outputs": [
    {
     "data": {
      "image/png": "[encoded data removed]",
      "text/plain": [
       "<Figure size 1440x288 with 1 Axes>"
      ]
     },
     "metadata": {
      "needs_background": "light"
     },
     "output_type": "display_data"
    }
   ],
   "source": [
    "x=['furniture_decor','bed_bath_table','sports_leisure','health_beauty','housewares','watches_gifts','computers_accessories','garden_tools','vehicle_related_product','office_furniture']\n",
    "values=[16.52,16.99,10.53,13.54,10.49,7.04,8.74,8.09,5.14,2.93]\n",
    "plt.figure(figsize=(20,4))\n",
    "plt.title(\"Top 10 category in the Evening\")\n",
    "plt.ylim(0,18)\n",
    "colors = sns.color_palette('gist_earth',len(x))\n",
    "plt.bar(x,values,color=colors)                         #18:00 ~ 24:00 주문 top 10 카테고리\n",
    "plt.gca().spines['right'].set_visible(False) #오른쪽 테두리 제거\n",
    "plt.gca().spines['top'].set_visible(False) #위 테두리 제거\n",
    "plt.gca().spines['left'].set_visible(False) #왼쪽 테두리 제거"
   ]
  },
  {
   "cell_type": "code",
   "execution_count": 19,
   "id": "11700913",
   "metadata": {},
   "outputs": [],
   "source": [
    "# 카테고리 리서치 결과\n",
    "# furniture_decor: 가구(소파 등등)\n",
    "# bed_bath_table: 침구류, 테이블, 디퓨저, 시트\n",
    "# housewares: 가정용품, 후라이팬\n",
    "# computers_accessories: 프린터기, 랩탑, sim카드, 어댑터 등\n",
    "# garden tools: 캐노피, 실외기 보호 장비, 인조 잔디, 식물, garden umbrella\n",
    "# vehicle_related_prdocut: 자동차 부품\n",
    "# office_furniture: 사무용품"
   ]
  },
  {
   "cell_type": "code",
   "execution_count": 20,
   "id": "898c3ff4",
   "metadata": {},
   "outputs": [],
   "source": [
    "price=pd.read_csv(\"time_payment_type.csv\")"
   ]
  },
  {
   "cell_type": "code",
   "execution_count": 21,
   "id": "6ca33efa",
   "metadata": {},
   "outputs": [],
   "source": [
    "revenue = pd.merge(data, price, on=\"order_id\", how=\"left\")   # order 별 가격 데이터 merge"
   ]
  },
  {
   "cell_type": "code",
   "execution_count": 22,
   "id": "c1873731",
   "metadata": {},
   "outputs": [],
   "source": [
    "revenue=revenue[['order_id','order_status_x','order_timerange_x','order_day_x','product_category_name_english','order_item_id','customer_id','payment_value']]"
   ]
  },
  {
   "cell_type": "code",
   "execution_count": 23,
   "id": "bab89685",
   "metadata": {
    "scrolled": true
   },
   "outputs": [
    {
     "data": {
      "text/html": [
       "<div>\n",
       "<style scoped>\n",
       "    .dataframe tbody tr th:only-of-type {\n",
       "        vertical-align: middle;\n",
       "    }\n",
       "\n",
       "    .dataframe tbody tr th {\n",
       "        vertical-align: top;\n",
       "    }\n",
       "\n",
       "    .dataframe thead th {\n",
       "        text-align: right;\n",
       "    }\n",
       "</style>\n",
       "<table border=\"1\" class=\"dataframe\">\n",
       "  <thead>\n",
       "    <tr style=\"text-align: right;\">\n",
       "      <th></th>\n",
       "      <th>payment_value</th>\n",
       "      <th>exchangerate</th>\n",
       "      <th>rank</th>\n",
       "    </tr>\n",
       "    <tr>\n",
       "      <th>product_category_name_english</th>\n",
       "      <th></th>\n",
       "      <th></th>\n",
       "      <th></th>\n",
       "    </tr>\n",
       "  </thead>\n",
       "  <tbody>\n",
       "    <tr>\n",
       "      <th>agriculture_products</th>\n",
       "      <td>224.600</td>\n",
       "      <td>74118.00</td>\n",
       "      <td>11.0</td>\n",
       "    </tr>\n",
       "    <tr>\n",
       "      <th>air_conditioning</th>\n",
       "      <td>224.885</td>\n",
       "      <td>74212.05</td>\n",
       "      <td>10.0</td>\n",
       "    </tr>\n",
       "    <tr>\n",
       "      <th>alcohol_drinks</th>\n",
       "      <td>122.360</td>\n",
       "      <td>40378.80</td>\n",
       "      <td>41.0</td>\n",
       "    </tr>\n",
       "    <tr>\n",
       "      <th>art</th>\n",
       "      <td>112.020</td>\n",
       "      <td>36966.60</td>\n",
       "      <td>45.0</td>\n",
       "    </tr>\n",
       "    <tr>\n",
       "      <th>arts_and_craftmanship</th>\n",
       "      <td>75.285</td>\n",
       "      <td>24844.05</td>\n",
       "      <td>64.0</td>\n",
       "    </tr>\n",
       "    <tr>\n",
       "      <th>...</th>\n",
       "      <td>...</td>\n",
       "      <td>...</td>\n",
       "      <td>...</td>\n",
       "    </tr>\n",
       "    <tr>\n",
       "      <th>telephone</th>\n",
       "      <td>56.810</td>\n",
       "      <td>18747.30</td>\n",
       "      <td>68.0</td>\n",
       "    </tr>\n",
       "    <tr>\n",
       "      <th>telephone_cable</th>\n",
       "      <td>289.680</td>\n",
       "      <td>95594.40</td>\n",
       "      <td>5.0</td>\n",
       "    </tr>\n",
       "    <tr>\n",
       "      <th>toys</th>\n",
       "      <td>113.440</td>\n",
       "      <td>37435.20</td>\n",
       "      <td>43.0</td>\n",
       "    </tr>\n",
       "    <tr>\n",
       "      <th>vehicle_related_product</th>\n",
       "      <td>138.170</td>\n",
       "      <td>45596.10</td>\n",
       "      <td>30.0</td>\n",
       "    </tr>\n",
       "    <tr>\n",
       "      <th>watches_gifts</th>\n",
       "      <td>165.890</td>\n",
       "      <td>54743.70</td>\n",
       "      <td>18.0</td>\n",
       "    </tr>\n",
       "  </tbody>\n",
       "</table>\n",
       "<p>71 rows × 3 columns</p>\n",
       "</div>"
      ],
      "text/plain": [
       "                               payment_value  exchangerate  rank\n",
       "product_category_name_english                                   \n",
       "agriculture_products                 224.600      74118.00  11.0\n",
       "air_conditioning                     224.885      74212.05  10.0\n",
       "alcohol_drinks                       122.360      40378.80  41.0\n",
       "art                                  112.020      36966.60  45.0\n",
       "arts_and_craftmanship                 75.285      24844.05  64.0\n",
       "...                                      ...           ...   ...\n",
       "telephone                             56.810      18747.30  68.0\n",
       "telephone_cable                      289.680      95594.40   5.0\n",
       "toys                                 113.440      37435.20  43.0\n",
       "vehicle_related_product              138.170      45596.10  30.0\n",
       "watches_gifts                        165.890      54743.70  18.0\n",
       "\n",
       "[71 rows x 3 columns]"
      ]
     },
     "execution_count": 23,
     "metadata": {},
     "output_type": "execute_result"
    }
   ],
   "source": [
    "revenue_median=pd.pivot_table(revenue, \n",
    "               index='product_category_name_english', \n",
    "               values='payment_value', \n",
    "               aggfunc='median')                                                         #주문 금액 outlier 영향 제거를 위해 중앙값 활용\n",
    "revenue_median['exchangerate']=revenue_median['payment_value']*330                       #16~18년도 환율을 반영하였을 때 주문 금액 분포 확인\n",
    "revenue_median.sort_values(by='exchangerate',ascending=False)\n",
    "revenue_median['rank']=revenue_median['exchangerate'].rank(method='min',ascending=False) #주문 금액 랭크 설정\n",
    "revenue_median"
   ]
  },
  {
   "cell_type": "code",
   "execution_count": 24,
   "id": "98a9d879",
   "metadata": {
    "scrolled": true
   },
   "outputs": [
    {
     "data": {
      "text/html": [
       "<div>\n",
       "<style scoped>\n",
       "    .dataframe tbody tr th:only-of-type {\n",
       "        vertical-align: middle;\n",
       "    }\n",
       "\n",
       "    .dataframe tbody tr th {\n",
       "        vertical-align: top;\n",
       "    }\n",
       "\n",
       "    .dataframe thead th {\n",
       "        text-align: right;\n",
       "    }\n",
       "</style>\n",
       "<table border=\"1\" class=\"dataframe\">\n",
       "  <thead>\n",
       "    <tr style=\"text-align: right;\">\n",
       "      <th></th>\n",
       "      <th>payment_value</th>\n",
       "      <th>exchangerate</th>\n",
       "      <th>rank</th>\n",
       "    </tr>\n",
       "    <tr>\n",
       "      <th>product_category_name_english</th>\n",
       "      <th></th>\n",
       "      <th></th>\n",
       "      <th></th>\n",
       "    </tr>\n",
       "  </thead>\n",
       "  <tbody>\n",
       "    <tr>\n",
       "      <th>office_furniture</th>\n",
       "      <td>425.455</td>\n",
       "      <td>140400.15</td>\n",
       "      <td>3.0</td>\n",
       "    </tr>\n",
       "    <tr>\n",
       "      <th>computers_accessories</th>\n",
       "      <td>170.360</td>\n",
       "      <td>56218.80</td>\n",
       "      <td>15.0</td>\n",
       "    </tr>\n",
       "    <tr>\n",
       "      <th>watches_gifts</th>\n",
       "      <td>165.890</td>\n",
       "      <td>54743.70</td>\n",
       "      <td>18.0</td>\n",
       "    </tr>\n",
       "    <tr>\n",
       "      <th>garden_tools</th>\n",
       "      <td>162.570</td>\n",
       "      <td>53648.10</td>\n",
       "      <td>20.0</td>\n",
       "    </tr>\n",
       "    <tr>\n",
       "      <th>furniture_decor</th>\n",
       "      <td>153.960</td>\n",
       "      <td>50806.80</td>\n",
       "      <td>25.0</td>\n",
       "    </tr>\n",
       "    <tr>\n",
       "      <th>vehicle_related_product</th>\n",
       "      <td>138.170</td>\n",
       "      <td>45596.10</td>\n",
       "      <td>30.0</td>\n",
       "    </tr>\n",
       "    <tr>\n",
       "      <th>housewares</th>\n",
       "      <td>134.855</td>\n",
       "      <td>44502.15</td>\n",
       "      <td>31.0</td>\n",
       "    </tr>\n",
       "    <tr>\n",
       "      <th>bed_bath_table</th>\n",
       "      <td>134.450</td>\n",
       "      <td>44368.50</td>\n",
       "      <td>32.0</td>\n",
       "    </tr>\n",
       "    <tr>\n",
       "      <th>sports_leisure</th>\n",
       "      <td>126.415</td>\n",
       "      <td>41716.95</td>\n",
       "      <td>38.0</td>\n",
       "    </tr>\n",
       "    <tr>\n",
       "      <th>health_beauty</th>\n",
       "      <td>118.350</td>\n",
       "      <td>39055.50</td>\n",
       "      <td>42.0</td>\n",
       "    </tr>\n",
       "  </tbody>\n",
       "</table>\n",
       "</div>"
      ],
      "text/plain": [
       "                               payment_value  exchangerate  rank\n",
       "product_category_name_english                                   \n",
       "office_furniture                     425.455     140400.15   3.0\n",
       "computers_accessories                170.360      56218.80  15.0\n",
       "watches_gifts                        165.890      54743.70  18.0\n",
       "garden_tools                         162.570      53648.10  20.0\n",
       "furniture_decor                      153.960      50806.80  25.0\n",
       "vehicle_related_product              138.170      45596.10  30.0\n",
       "housewares                           134.855      44502.15  31.0\n",
       "bed_bath_table                       134.450      44368.50  32.0\n",
       "sports_leisure                       126.415      41716.95  38.0\n",
       "health_beauty                        118.350      39055.50  42.0"
      ]
     },
     "execution_count": 24,
     "metadata": {},
     "output_type": "execute_result"
    }
   ],
   "source": [
    "revenue_median1=revenue_median.loc[['furniture_decor','bed_bath_table','sports_leisure','health_beauty','housewares','watches_gifts','computers_accessories','garden_tools','vehicle_related_product','office_furniture']]\n",
    "revenue_median1=revenue_median1.sort_values(by='exchangerate',ascending=False)\n",
    "revenue_median1"
   ]
  },
  {
   "cell_type": "code",
   "execution_count": 25,
   "id": "9f323c6f",
   "metadata": {},
   "outputs": [],
   "source": [
    "#지역별 카테고리 주문 추이 분포 분석\n",
    "customer=pd.read_csv(\"olist_customers_dataset.csv\",encoding='cp949')\n",
    "geo=pd.read_csv(\"olist_geolocation_dataset.csv\",encoding='cp949')\n",
    "geo=geo.rename(columns={'geolocation_zip_code_prefix':'customer_zip_code_prefix'})\n",
    "customer_geo = pd.merge(customer, geo, on=\"customer_zip_code_prefix\", how=\"left\")\n",
    "customer_geo = customer_geo[['customer_id','customer_zip_code_prefix','customer_city','customer_state','geolocation_lat','geolocation_lng']]"
   ]
  },
  {
   "cell_type": "code",
   "execution_count": 26,
   "id": "f931063b",
   "metadata": {},
   "outputs": [
    {
     "data": {
      "text/html": [
       "<div>\n",
       "<style scoped>\n",
       "    .dataframe tbody tr th:only-of-type {\n",
       "        vertical-align: middle;\n",
       "    }\n",
       "\n",
       "    .dataframe tbody tr th {\n",
       "        vertical-align: top;\n",
       "    }\n",
       "\n",
       "    .dataframe thead th {\n",
       "        text-align: right;\n",
       "    }\n",
       "</style>\n",
       "<table border=\"1\" class=\"dataframe\">\n",
       "  <thead>\n",
       "    <tr style=\"text-align: right;\">\n",
       "      <th></th>\n",
       "      <th>customer_id</th>\n",
       "      <th>customer_zip_code_prefix</th>\n",
       "      <th>customer_city</th>\n",
       "      <th>customer_state</th>\n",
       "      <th>geolocation_lat</th>\n",
       "      <th>geolocation_lng</th>\n",
       "    </tr>\n",
       "  </thead>\n",
       "  <tbody>\n",
       "    <tr>\n",
       "      <th>0</th>\n",
       "      <td>06b8999e2fba1a1fbc88172c00ba8bc7</td>\n",
       "      <td>14409</td>\n",
       "      <td>franca</td>\n",
       "      <td>SP</td>\n",
       "      <td>-20.509898</td>\n",
       "      <td>-47.397866</td>\n",
       "    </tr>\n",
       "    <tr>\n",
       "      <th>1</th>\n",
       "      <td>06b8999e2fba1a1fbc88172c00ba8bc7</td>\n",
       "      <td>14409</td>\n",
       "      <td>franca</td>\n",
       "      <td>SP</td>\n",
       "      <td>-20.497396</td>\n",
       "      <td>-47.399241</td>\n",
       "    </tr>\n",
       "    <tr>\n",
       "      <th>2</th>\n",
       "      <td>06b8999e2fba1a1fbc88172c00ba8bc7</td>\n",
       "      <td>14409</td>\n",
       "      <td>franca</td>\n",
       "      <td>SP</td>\n",
       "      <td>-20.510459</td>\n",
       "      <td>-47.399553</td>\n",
       "    </tr>\n",
       "    <tr>\n",
       "      <th>3</th>\n",
       "      <td>06b8999e2fba1a1fbc88172c00ba8bc7</td>\n",
       "      <td>14409</td>\n",
       "      <td>franca</td>\n",
       "      <td>SP</td>\n",
       "      <td>-20.480940</td>\n",
       "      <td>-47.394161</td>\n",
       "    </tr>\n",
       "    <tr>\n",
       "      <th>4</th>\n",
       "      <td>06b8999e2fba1a1fbc88172c00ba8bc7</td>\n",
       "      <td>14409</td>\n",
       "      <td>franca</td>\n",
       "      <td>SP</td>\n",
       "      <td>-20.515413</td>\n",
       "      <td>-47.398194</td>\n",
       "    </tr>\n",
       "    <tr>\n",
       "      <th>...</th>\n",
       "      <td>...</td>\n",
       "      <td>...</td>\n",
       "      <td>...</td>\n",
       "      <td>...</td>\n",
       "      <td>...</td>\n",
       "      <td>...</td>\n",
       "    </tr>\n",
       "    <tr>\n",
       "      <th>15083728</th>\n",
       "      <td>274fa6071e5e17fe303b9748641082c8</td>\n",
       "      <td>6703</td>\n",
       "      <td>cotia</td>\n",
       "      <td>SP</td>\n",
       "      <td>-23.599369</td>\n",
       "      <td>-46.905603</td>\n",
       "    </tr>\n",
       "    <tr>\n",
       "      <th>15083729</th>\n",
       "      <td>274fa6071e5e17fe303b9748641082c8</td>\n",
       "      <td>6703</td>\n",
       "      <td>cotia</td>\n",
       "      <td>SP</td>\n",
       "      <td>-23.593577</td>\n",
       "      <td>-46.910112</td>\n",
       "    </tr>\n",
       "    <tr>\n",
       "      <th>15083730</th>\n",
       "      <td>274fa6071e5e17fe303b9748641082c8</td>\n",
       "      <td>6703</td>\n",
       "      <td>cotia</td>\n",
       "      <td>SP</td>\n",
       "      <td>-23.584425</td>\n",
       "      <td>-46.892014</td>\n",
       "    </tr>\n",
       "    <tr>\n",
       "      <th>15083731</th>\n",
       "      <td>274fa6071e5e17fe303b9748641082c8</td>\n",
       "      <td>6703</td>\n",
       "      <td>cotia</td>\n",
       "      <td>SP</td>\n",
       "      <td>-23.595022</td>\n",
       "      <td>-46.918546</td>\n",
       "    </tr>\n",
       "    <tr>\n",
       "      <th>15083732</th>\n",
       "      <td>274fa6071e5e17fe303b9748641082c8</td>\n",
       "      <td>6703</td>\n",
       "      <td>cotia</td>\n",
       "      <td>SP</td>\n",
       "      <td>-23.594067</td>\n",
       "      <td>-46.909609</td>\n",
       "    </tr>\n",
       "  </tbody>\n",
       "</table>\n",
       "<p>15083733 rows × 6 columns</p>\n",
       "</div>"
      ],
      "text/plain": [
       "                               customer_id  customer_zip_code_prefix  \\\n",
       "0         06b8999e2fba1a1fbc88172c00ba8bc7                     14409   \n",
       "1         06b8999e2fba1a1fbc88172c00ba8bc7                     14409   \n",
       "2         06b8999e2fba1a1fbc88172c00ba8bc7                     14409   \n",
       "3         06b8999e2fba1a1fbc88172c00ba8bc7                     14409   \n",
       "4         06b8999e2fba1a1fbc88172c00ba8bc7                     14409   \n",
       "...                                    ...                       ...   \n",
       "15083728  274fa6071e5e17fe303b9748641082c8                      6703   \n",
       "15083729  274fa6071e5e17fe303b9748641082c8                      6703   \n",
       "15083730  274fa6071e5e17fe303b9748641082c8                      6703   \n",
       "15083731  274fa6071e5e17fe303b9748641082c8                      6703   \n",
       "15083732  274fa6071e5e17fe303b9748641082c8                      6703   \n",
       "\n",
       "         customer_city customer_state  geolocation_lat  geolocation_lng  \n",
       "0               franca             SP       -20.509898       -47.397866  \n",
       "1               franca             SP       -20.497396       -47.399241  \n",
       "2               franca             SP       -20.510459       -47.399553  \n",
       "3               franca             SP       -20.480940       -47.394161  \n",
       "4               franca             SP       -20.515413       -47.398194  \n",
       "...                ...            ...              ...              ...  \n",
       "15083728         cotia             SP       -23.599369       -46.905603  \n",
       "15083729         cotia             SP       -23.593577       -46.910112  \n",
       "15083730         cotia             SP       -23.584425       -46.892014  \n",
       "15083731         cotia             SP       -23.595022       -46.918546  \n",
       "15083732         cotia             SP       -23.594067       -46.909609  \n",
       "\n",
       "[15083733 rows x 6 columns]"
      ]
     },
     "execution_count": 26,
     "metadata": {},
     "output_type": "execute_result"
    }
   ],
   "source": [
    "customer_geo"
   ]
  },
  {
   "cell_type": "code",
   "execution_count": 27,
   "id": "e0c9e765",
   "metadata": {},
   "outputs": [],
   "source": [
    "del customer\n",
    "del geo"
   ]
  },
  {
   "cell_type": "code",
   "execution_count": 28,
   "id": "ab229391",
   "metadata": {},
   "outputs": [],
   "source": [
    "customer_geo1=pd.merge(customer_geo,timeslot_category,on='customer_id',how=\"left\")\n",
    "customer_geo1=customer_geo1[['order_id','customer_id','order_status','product_category_name_english','customer_city','customer_state','geolocation_lat','geolocation_lng']]"
   ]
  },
  {
   "cell_type": "code",
   "execution_count": 29,
   "id": "ad72db42",
   "metadata": {},
   "outputs": [],
   "source": [
    "customer_geo11 = customer_geo1[(customer_geo1['product_category_name_english'] == 'computers_accessories') | \n",
    "                              (customer_geo1['product_category_name_english'] == 'watches_gifts') | \n",
    "                              (customer_geo1['product_category_name_english'] == 'garden_tools') |\n",
    "                              (customer_geo1['product_category_name_english'] == 'furniture_decor') | \n",
    "                              (customer_geo1['product_category_name_english'] == 'vehicle_related_product') | \n",
    "                              (customer_geo1['product_category_name_english'] == 'housewares') | \n",
    "                              (customer_geo1['product_category_name_english'] == 'bed_bath_table') |\n",
    "                              (customer_geo1['product_category_name_english'] == 'sports_leisure') | \n",
    "                              (customer_geo1['product_category_name_english'] == 'health_beauty') |\n",
    "                              (customer_geo1['product_category_name_english'] == 'office_furniture')]"
   ]
  },
  {
   "cell_type": "code",
   "execution_count": 30,
   "id": "909253bb",
   "metadata": {},
   "outputs": [],
   "source": [
    "customer_geo111=pd.pivot_table(customer_geo11, \n",
    "               index=['customer_state','product_category_name_english'], \n",
    "               values='order_id', \n",
    "               aggfunc='count')"
   ]
  },
  {
   "cell_type": "code",
   "execution_count": 31,
   "id": "da2ad6b8",
   "metadata": {},
   "outputs": [],
   "source": [
    "SP = customer_geo111.loc['SP']\n",
    "RJ = customer_geo111.loc['RJ']\n",
    "MG = customer_geo111.loc['MG'] \n",
    "RS = customer_geo111.loc['RS']\n",
    "PR = customer_geo111.loc['PR']\n",
    "SC = customer_geo111.loc['SC']\n",
    "BA = customer_geo111.loc['BA']\n",
    "ES = customer_geo111.loc['ES']\n",
    "#가장 구매 건수가 많았던 8개의 주에서 어떤 카테고리에 대한 수요가 많았는지 분석"
   ]
  },
  {
   "cell_type": "code",
   "execution_count": 32,
   "id": "d6a318cc",
   "metadata": {},
   "outputs": [
    {
     "data": {
      "text/html": [
       "<div>\n",
       "<style scoped>\n",
       "    .dataframe tbody tr th:only-of-type {\n",
       "        vertical-align: middle;\n",
       "    }\n",
       "\n",
       "    .dataframe tbody tr th {\n",
       "        vertical-align: top;\n",
       "    }\n",
       "\n",
       "    .dataframe thead th {\n",
       "        text-align: right;\n",
       "    }\n",
       "</style>\n",
       "<table border=\"1\" class=\"dataframe\">\n",
       "  <thead>\n",
       "    <tr style=\"text-align: right;\">\n",
       "      <th></th>\n",
       "      <th>order_id</th>\n",
       "    </tr>\n",
       "    <tr>\n",
       "      <th>product_category_name_english</th>\n",
       "      <th></th>\n",
       "    </tr>\n",
       "  </thead>\n",
       "  <tbody>\n",
       "    <tr>\n",
       "      <th>bed_bath_table</th>\n",
       "      <td>1015484</td>\n",
       "    </tr>\n",
       "    <tr>\n",
       "      <th>computers_accessories</th>\n",
       "      <td>612907</td>\n",
       "    </tr>\n",
       "    <tr>\n",
       "      <th>furniture_decor</th>\n",
       "      <td>934443</td>\n",
       "    </tr>\n",
       "    <tr>\n",
       "      <th>garden_tools</th>\n",
       "      <td>437590</td>\n",
       "    </tr>\n",
       "    <tr>\n",
       "      <th>health_beauty</th>\n",
       "      <td>734725</td>\n",
       "    </tr>\n",
       "    <tr>\n",
       "      <th>housewares</th>\n",
       "      <td>602485</td>\n",
       "    </tr>\n",
       "    <tr>\n",
       "      <th>office_furniture</th>\n",
       "      <td>176663</td>\n",
       "    </tr>\n",
       "    <tr>\n",
       "      <th>sports_leisure</th>\n",
       "      <td>642593</td>\n",
       "    </tr>\n",
       "    <tr>\n",
       "      <th>vehicle_related_product</th>\n",
       "      <td>267455</td>\n",
       "    </tr>\n",
       "    <tr>\n",
       "      <th>watches_gifts</th>\n",
       "      <td>340320</td>\n",
       "    </tr>\n",
       "  </tbody>\n",
       "</table>\n",
       "</div>"
      ],
      "text/plain": [
       "                               order_id\n",
       "product_category_name_english          \n",
       "bed_bath_table                  1015484\n",
       "computers_accessories            612907\n",
       "furniture_decor                  934443\n",
       "garden_tools                     437590\n",
       "health_beauty                    734725\n",
       "housewares                       602485\n",
       "office_furniture                 176663\n",
       "sports_leisure                   642593\n",
       "vehicle_related_product          267455\n",
       "watches_gifts                    340320"
      ]
     },
     "execution_count": 32,
     "metadata": {},
     "output_type": "execute_result"
    }
   ],
   "source": [
    "SP"
   ]
  },
  {
   "cell_type": "code",
   "execution_count": 33,
   "id": "f24dfa31",
   "metadata": {},
   "outputs": [
    {
     "data": {
      "image/png": "[encoded data removed]",
      "text/plain": [
       "<Figure size 1440x288 with 1 Axes>"
      ]
     },
     "metadata": {
      "needs_background": "light"
     },
     "output_type": "display_data"
    }
   ],
   "source": [
    "x=['furniture_decor','bed_bath_table','sports_leisure','health_beauty','housewares','watches_gifts','computers_accessories','garden_tools','vehicle_related_product','office_furniture']\n",
    "values=[16.21,17.62,11.15,12.75,10.45,5.9,10.63,7.59,4.64,3.06]\n",
    "plt.figure(figsize=(20,4))\n",
    "plt.ylim(0,24)\n",
    "plt.title(\"Sao Paulo orders for top 10 categories\")\n",
    "colors = sns.color_palette('gist_earth',len(x))\n",
    "plt.bar(x,values,color=colors)                         #상파울루 카테고리별 주문 건수\n",
    "plt.gca().spines['right'].set_visible(False) #오른쪽 테두리 제거\n",
    "plt.gca().spines['top'].set_visible(False) #위 테두리 제거\n",
    "plt.gca().spines['left'].set_visible(False) #왼쪽 테두리 제거"
   ]
  },
  {
   "cell_type": "code",
   "execution_count": 34,
   "id": "186a8264",
   "metadata": {},
   "outputs": [
    {
     "data": {
      "text/html": [
       "<div>\n",
       "<style scoped>\n",
       "    .dataframe tbody tr th:only-of-type {\n",
       "        vertical-align: middle;\n",
       "    }\n",
       "\n",
       "    .dataframe tbody tr th {\n",
       "        vertical-align: top;\n",
       "    }\n",
       "\n",
       "    .dataframe thead th {\n",
       "        text-align: right;\n",
       "    }\n",
       "</style>\n",
       "<table border=\"1\" class=\"dataframe\">\n",
       "  <thead>\n",
       "    <tr style=\"text-align: right;\">\n",
       "      <th></th>\n",
       "      <th>order_id</th>\n",
       "    </tr>\n",
       "    <tr>\n",
       "      <th>product_category_name_english</th>\n",
       "      <th></th>\n",
       "    </tr>\n",
       "  </thead>\n",
       "  <tbody>\n",
       "    <tr>\n",
       "      <th>bed_bath_table</th>\n",
       "      <td>544923</td>\n",
       "    </tr>\n",
       "    <tr>\n",
       "      <th>computers_accessories</th>\n",
       "      <td>336032</td>\n",
       "    </tr>\n",
       "    <tr>\n",
       "      <th>furniture_decor</th>\n",
       "      <td>454592</td>\n",
       "    </tr>\n",
       "    <tr>\n",
       "      <th>garden_tools</th>\n",
       "      <td>221722</td>\n",
       "    </tr>\n",
       "    <tr>\n",
       "      <th>health_beauty</th>\n",
       "      <td>309610</td>\n",
       "    </tr>\n",
       "    <tr>\n",
       "      <th>housewares</th>\n",
       "      <td>354720</td>\n",
       "    </tr>\n",
       "    <tr>\n",
       "      <th>office_furniture</th>\n",
       "      <td>206794</td>\n",
       "    </tr>\n",
       "    <tr>\n",
       "      <th>sports_leisure</th>\n",
       "      <td>324846</td>\n",
       "    </tr>\n",
       "    <tr>\n",
       "      <th>vehicle_related_product</th>\n",
       "      <td>108632</td>\n",
       "    </tr>\n",
       "    <tr>\n",
       "      <th>watches_gifts</th>\n",
       "      <td>218080</td>\n",
       "    </tr>\n",
       "  </tbody>\n",
       "</table>\n",
       "</div>"
      ],
      "text/plain": [
       "                               order_id\n",
       "product_category_name_english          \n",
       "bed_bath_table                   544923\n",
       "computers_accessories            336032\n",
       "furniture_decor                  454592\n",
       "garden_tools                     221722\n",
       "health_beauty                    309610\n",
       "housewares                       354720\n",
       "office_furniture                 206794\n",
       "sports_leisure                   324846\n",
       "vehicle_related_product          108632\n",
       "watches_gifts                    218080"
      ]
     },
     "execution_count": 34,
     "metadata": {},
     "output_type": "execute_result"
    }
   ],
   "source": [
    "RJ"
   ]
  },
  {
   "cell_type": "code",
   "execution_count": 35,
   "id": "e72b3087",
   "metadata": {},
   "outputs": [
    {
     "data": {
      "image/png": "[encoded data removed]",
      "text/plain": [
       "<Figure size 1440x288 with 1 Axes>"
      ]
     },
     "metadata": {
      "needs_background": "light"
     },
     "output_type": "display_data"
    }
   ],
   "source": [
    "x=['furniture_decor','bed_bath_table','sports_leisure','health_beauty','housewares','watches_gifts','computers_accessories','garden_tools','vehicle_related_product','office_furniture']\n",
    "values=[14.76,17.69,10.55,10.05,11.52,7.08,10.91,7.2,3.53,6.71]\n",
    "plt.figure(figsize=(20,4))\n",
    "plt.ylim(0,24)\n",
    "plt.title(\"Rio de Janeiro orders for top 10 categories\")\n",
    "colors = sns.color_palette('gist_earth',len(x))\n",
    "plt.bar(x,values,color=colors)                         #리우데자네이루 카테고리별 주문 건수\n",
    "plt.gca().spines['right'].set_visible(False) #오른쪽 테두리 제거\n",
    "plt.gca().spines['top'].set_visible(False) #위 테두리 제거\n",
    "plt.gca().spines['left'].set_visible(False) #왼쪽 테두리 제거"
   ]
  },
  {
   "cell_type": "code",
   "execution_count": 36,
   "id": "f2f65528",
   "metadata": {},
   "outputs": [
    {
     "data": {
      "text/html": [
       "<div>\n",
       "<style scoped>\n",
       "    .dataframe tbody tr th:only-of-type {\n",
       "        vertical-align: middle;\n",
       "    }\n",
       "\n",
       "    .dataframe tbody tr th {\n",
       "        vertical-align: top;\n",
       "    }\n",
       "\n",
       "    .dataframe thead th {\n",
       "        text-align: right;\n",
       "    }\n",
       "</style>\n",
       "<table border=\"1\" class=\"dataframe\">\n",
       "  <thead>\n",
       "    <tr style=\"text-align: right;\">\n",
       "      <th></th>\n",
       "      <th>order_id</th>\n",
       "    </tr>\n",
       "    <tr>\n",
       "      <th>product_category_name_english</th>\n",
       "      <th></th>\n",
       "    </tr>\n",
       "  </thead>\n",
       "  <tbody>\n",
       "    <tr>\n",
       "      <th>bed_bath_table</th>\n",
       "      <td>479476</td>\n",
       "    </tr>\n",
       "    <tr>\n",
       "      <th>computers_accessories</th>\n",
       "      <td>337190</td>\n",
       "    </tr>\n",
       "    <tr>\n",
       "      <th>furniture_decor</th>\n",
       "      <td>440003</td>\n",
       "    </tr>\n",
       "    <tr>\n",
       "      <th>garden_tools</th>\n",
       "      <td>244911</td>\n",
       "    </tr>\n",
       "    <tr>\n",
       "      <th>health_beauty</th>\n",
       "      <td>347072</td>\n",
       "    </tr>\n",
       "    <tr>\n",
       "      <th>housewares</th>\n",
       "      <td>421234</td>\n",
       "    </tr>\n",
       "    <tr>\n",
       "      <th>office_furniture</th>\n",
       "      <td>52340</td>\n",
       "    </tr>\n",
       "    <tr>\n",
       "      <th>sports_leisure</th>\n",
       "      <td>321009</td>\n",
       "    </tr>\n",
       "    <tr>\n",
       "      <th>vehicle_related_product</th>\n",
       "      <td>125486</td>\n",
       "    </tr>\n",
       "    <tr>\n",
       "      <th>watches_gifts</th>\n",
       "      <td>171442</td>\n",
       "    </tr>\n",
       "  </tbody>\n",
       "</table>\n",
       "</div>"
      ],
      "text/plain": [
       "                               order_id\n",
       "product_category_name_english          \n",
       "bed_bath_table                   479476\n",
       "computers_accessories            337190\n",
       "furniture_decor                  440003\n",
       "garden_tools                     244911\n",
       "health_beauty                    347072\n",
       "housewares                       421234\n",
       "office_furniture                  52340\n",
       "sports_leisure                   321009\n",
       "vehicle_related_product          125486\n",
       "watches_gifts                    171442"
      ]
     },
     "execution_count": 36,
     "metadata": {},
     "output_type": "execute_result"
    }
   ],
   "source": [
    "MG"
   ]
  },
  {
   "cell_type": "code",
   "execution_count": 37,
   "id": "cbd3da66",
   "metadata": {},
   "outputs": [
    {
     "data": {
      "image/png": "[encoded data removed]",
      "text/plain": [
       "<Figure size 1440x288 with 1 Axes>"
      ]
     },
     "metadata": {
      "needs_background": "light"
     },
     "output_type": "display_data"
    }
   ],
   "source": [
    "x=['furniture_decor','bed_bath_table','sports_leisure','health_beauty','housewares','watches_gifts','computers_accessories','garden_tools','vehicle_related_product','office_furniture']\n",
    "values=[14.97,16.31,10.92,11.8,14.33,5.83,11.47,8.33,4.27,1.78]\n",
    "plt.figure(figsize=(20,4))\n",
    "plt.ylim(0,24)\n",
    "plt.title(\"Minas Gerais orders for top 10 categories\")\n",
    "colors = sns.color_palette('gist_earth',len(x))\n",
    "plt.bar(x,values,color=colors)                         #미나스 헤라이스 카테고리별 주문 건수\n",
    "plt.gca().spines['right'].set_visible(False) #오른쪽 테두리 제거\n",
    "plt.gca().spines['top'].set_visible(False) #위 테두리 제거\n",
    "plt.gca().spines['left'].set_visible(False) #왼쪽 테두리 제거"
   ]
  },
  {
   "cell_type": "code",
   "execution_count": 38,
   "id": "8f9d2e13",
   "metadata": {},
   "outputs": [
    {
     "data": {
      "text/html": [
       "<div>\n",
       "<style scoped>\n",
       "    .dataframe tbody tr th:only-of-type {\n",
       "        vertical-align: middle;\n",
       "    }\n",
       "\n",
       "    .dataframe tbody tr th {\n",
       "        vertical-align: top;\n",
       "    }\n",
       "\n",
       "    .dataframe thead th {\n",
       "        text-align: right;\n",
       "    }\n",
       "</style>\n",
       "<table border=\"1\" class=\"dataframe\">\n",
       "  <thead>\n",
       "    <tr style=\"text-align: right;\">\n",
       "      <th></th>\n",
       "      <th>order_id</th>\n",
       "    </tr>\n",
       "    <tr>\n",
       "      <th>product_category_name_english</th>\n",
       "      <th></th>\n",
       "    </tr>\n",
       "  </thead>\n",
       "  <tbody>\n",
       "    <tr>\n",
       "      <th>bed_bath_table</th>\n",
       "      <td>147247</td>\n",
       "    </tr>\n",
       "    <tr>\n",
       "      <th>computers_accessories</th>\n",
       "      <td>131597</td>\n",
       "    </tr>\n",
       "    <tr>\n",
       "      <th>furniture_decor</th>\n",
       "      <td>135416</td>\n",
       "    </tr>\n",
       "    <tr>\n",
       "      <th>garden_tools</th>\n",
       "      <td>63815</td>\n",
       "    </tr>\n",
       "    <tr>\n",
       "      <th>health_beauty</th>\n",
       "      <td>78040</td>\n",
       "    </tr>\n",
       "    <tr>\n",
       "      <th>housewares</th>\n",
       "      <td>105646</td>\n",
       "    </tr>\n",
       "    <tr>\n",
       "      <th>office_furniture</th>\n",
       "      <td>13877</td>\n",
       "    </tr>\n",
       "    <tr>\n",
       "      <th>sports_leisure</th>\n",
       "      <td>88006</td>\n",
       "    </tr>\n",
       "    <tr>\n",
       "      <th>vehicle_related_product</th>\n",
       "      <td>29118</td>\n",
       "    </tr>\n",
       "    <tr>\n",
       "      <th>watches_gifts</th>\n",
       "      <td>41375</td>\n",
       "    </tr>\n",
       "  </tbody>\n",
       "</table>\n",
       "</div>"
      ],
      "text/plain": [
       "                               order_id\n",
       "product_category_name_english          \n",
       "bed_bath_table                   147247\n",
       "computers_accessories            131597\n",
       "furniture_decor                  135416\n",
       "garden_tools                      63815\n",
       "health_beauty                     78040\n",
       "housewares                       105646\n",
       "office_furniture                  13877\n",
       "sports_leisure                    88006\n",
       "vehicle_related_product           29118\n",
       "watches_gifts                     41375"
      ]
     },
     "execution_count": 38,
     "metadata": {},
     "output_type": "execute_result"
    }
   ],
   "source": [
    "RS"
   ]
  },
  {
   "cell_type": "code",
   "execution_count": 39,
   "id": "8ff935b6",
   "metadata": {},
   "outputs": [
    {
     "data": {
      "image/png": "[encoded data removed]",
      "text/plain": [
       "<Figure size 1440x288 with 1 Axes>"
      ]
     },
     "metadata": {
      "needs_background": "light"
     },
     "output_type": "display_data"
    }
   ],
   "source": [
    "x=['furniture_decor','bed_bath_table','sports_leisure','health_beauty','housewares','watches_gifts','computers_accessories','garden_tools','vehicle_related_product','office_furniture']\n",
    "values=[16.23,17.65,10.55,9.36,12.67,4.96,15.78,7.65,3.49,1.66]\n",
    "plt.figure(figsize=(20,4))\n",
    "plt.ylim(0,24)\n",
    "plt.title(\"Rio Grande do Sul orders for top 10 categories\")\n",
    "colors = sns.color_palette('gist_earth',len(x))\n",
    "plt.bar(x,values,color=colors)                         #리오 그란데 데 술 주 카테고리별 주문 건수\n",
    "plt.gca().spines['right'].set_visible(False) #오른쪽 테두리 제거\n",
    "plt.gca().spines['top'].set_visible(False) #위 테두리 제거\n",
    "plt.gca().spines['left'].set_visible(False) #왼쪽 테두리 제거"
   ]
  },
  {
   "cell_type": "code",
   "execution_count": 40,
   "id": "d19fd982",
   "metadata": {},
   "outputs": [
    {
     "data": {
      "text/html": [
       "<div>\n",
       "<style scoped>\n",
       "    .dataframe tbody tr th:only-of-type {\n",
       "        vertical-align: middle;\n",
       "    }\n",
       "\n",
       "    .dataframe tbody tr th {\n",
       "        vertical-align: top;\n",
       "    }\n",
       "\n",
       "    .dataframe thead th {\n",
       "        text-align: right;\n",
       "    }\n",
       "</style>\n",
       "<table border=\"1\" class=\"dataframe\">\n",
       "  <thead>\n",
       "    <tr style=\"text-align: right;\">\n",
       "      <th></th>\n",
       "      <th>order_id</th>\n",
       "    </tr>\n",
       "    <tr>\n",
       "      <th>product_category_name_english</th>\n",
       "      <th></th>\n",
       "    </tr>\n",
       "  </thead>\n",
       "  <tbody>\n",
       "    <tr>\n",
       "      <th>bed_bath_table</th>\n",
       "      <td>84851</td>\n",
       "    </tr>\n",
       "    <tr>\n",
       "      <th>computers_accessories</th>\n",
       "      <td>66747</td>\n",
       "    </tr>\n",
       "    <tr>\n",
       "      <th>furniture_decor</th>\n",
       "      <td>168832</td>\n",
       "    </tr>\n",
       "    <tr>\n",
       "      <th>garden_tools</th>\n",
       "      <td>36870</td>\n",
       "    </tr>\n",
       "    <tr>\n",
       "      <th>health_beauty</th>\n",
       "      <td>72617</td>\n",
       "    </tr>\n",
       "    <tr>\n",
       "      <th>housewares</th>\n",
       "      <td>70718</td>\n",
       "    </tr>\n",
       "    <tr>\n",
       "      <th>office_furniture</th>\n",
       "      <td>26665</td>\n",
       "    </tr>\n",
       "    <tr>\n",
       "      <th>sports_leisure</th>\n",
       "      <td>80324</td>\n",
       "    </tr>\n",
       "    <tr>\n",
       "      <th>vehicle_related_product</th>\n",
       "      <td>31245</td>\n",
       "    </tr>\n",
       "    <tr>\n",
       "      <th>watches_gifts</th>\n",
       "      <td>66563</td>\n",
       "    </tr>\n",
       "  </tbody>\n",
       "</table>\n",
       "</div>"
      ],
      "text/plain": [
       "                               order_id\n",
       "product_category_name_english          \n",
       "bed_bath_table                    84851\n",
       "computers_accessories             66747\n",
       "furniture_decor                  168832\n",
       "garden_tools                      36870\n",
       "health_beauty                     72617\n",
       "housewares                        70718\n",
       "office_furniture                  26665\n",
       "sports_leisure                    80324\n",
       "vehicle_related_product           31245\n",
       "watches_gifts                     66563"
      ]
     },
     "execution_count": 40,
     "metadata": {},
     "output_type": "execute_result"
    }
   ],
   "source": [
    "PR"
   ]
  },
  {
   "cell_type": "code",
   "execution_count": 41,
   "id": "a1d2bb52",
   "metadata": {},
   "outputs": [
    {
     "data": {
      "image/png": "[encoded data removed]",
      "text/plain": [
       "<Figure size 1440x288 with 1 Axes>"
      ]
     },
     "metadata": {
      "needs_background": "light"
     },
     "output_type": "display_data"
    }
   ],
   "source": [
    "x=['furniture_decor','bed_bath_table','sports_leisure','health_beauty','housewares','watches_gifts','computers_accessories','garden_tools','vehicle_related_product','office_furniture']\n",
    "values=[23.93,12.03,11.39,10.29,10.02,9.44,9.46,5.23,4.43,3.78]\n",
    "plt.figure(figsize=(20,4))\n",
    "plt.ylim(0,24)\n",
    "plt.title(\"Parana orders for top 10 categories\")\n",
    "colors = sns.color_palette('gist_earth',len(x))\n",
    "plt.bar(x,values,color=colors)                         #파라냐 주 카테고리별 주문 건수\n",
    "plt.gca().spines['right'].set_visible(False) #오른쪽 테두리 제거\n",
    "plt.gca().spines['top'].set_visible(False) #위 테두리 제거\n",
    "plt.gca().spines['left'].set_visible(False) #왼쪽 테두리 제거"
   ]
  },
  {
   "cell_type": "code",
   "execution_count": 42,
   "id": "7d8910be",
   "metadata": {},
   "outputs": [
    {
     "data": {
      "text/html": [
       "<div>\n",
       "<style scoped>\n",
       "    .dataframe tbody tr th:only-of-type {\n",
       "        vertical-align: middle;\n",
       "    }\n",
       "\n",
       "    .dataframe tbody tr th {\n",
       "        vertical-align: top;\n",
       "    }\n",
       "\n",
       "    .dataframe thead th {\n",
       "        text-align: right;\n",
       "    }\n",
       "</style>\n",
       "<table border=\"1\" class=\"dataframe\">\n",
       "  <thead>\n",
       "    <tr style=\"text-align: right;\">\n",
       "      <th></th>\n",
       "      <th>order_id</th>\n",
       "    </tr>\n",
       "    <tr>\n",
       "      <th>product_category_name_english</th>\n",
       "      <th></th>\n",
       "    </tr>\n",
       "  </thead>\n",
       "  <tbody>\n",
       "    <tr>\n",
       "      <th>bed_bath_table</th>\n",
       "      <td>80810</td>\n",
       "    </tr>\n",
       "    <tr>\n",
       "      <th>computers_accessories</th>\n",
       "      <td>67372</td>\n",
       "    </tr>\n",
       "    <tr>\n",
       "      <th>furniture_decor</th>\n",
       "      <td>75784</td>\n",
       "    </tr>\n",
       "    <tr>\n",
       "      <th>garden_tools</th>\n",
       "      <td>38014</td>\n",
       "    </tr>\n",
       "    <tr>\n",
       "      <th>health_beauty</th>\n",
       "      <td>50416</td>\n",
       "    </tr>\n",
       "    <tr>\n",
       "      <th>housewares</th>\n",
       "      <td>63849</td>\n",
       "    </tr>\n",
       "    <tr>\n",
       "      <th>office_furniture</th>\n",
       "      <td>16321</td>\n",
       "    </tr>\n",
       "    <tr>\n",
       "      <th>sports_leisure</th>\n",
       "      <td>81418</td>\n",
       "    </tr>\n",
       "    <tr>\n",
       "      <th>vehicle_related_product</th>\n",
       "      <td>36798</td>\n",
       "    </tr>\n",
       "    <tr>\n",
       "      <th>watches_gifts</th>\n",
       "      <td>60426</td>\n",
       "    </tr>\n",
       "  </tbody>\n",
       "</table>\n",
       "</div>"
      ],
      "text/plain": [
       "                               order_id\n",
       "product_category_name_english          \n",
       "bed_bath_table                    80810\n",
       "computers_accessories             67372\n",
       "furniture_decor                   75784\n",
       "garden_tools                      38014\n",
       "health_beauty                     50416\n",
       "housewares                        63849\n",
       "office_furniture                  16321\n",
       "sports_leisure                    81418\n",
       "vehicle_related_product           36798\n",
       "watches_gifts                     60426"
      ]
     },
     "execution_count": 42,
     "metadata": {},
     "output_type": "execute_result"
    }
   ],
   "source": [
    "SC"
   ]
  },
  {
   "cell_type": "code",
   "execution_count": 43,
   "id": "3bee2e1c",
   "metadata": {},
   "outputs": [
    {
     "data": {
      "image/png": "[encoded data removed]",
      "text/plain": [
       "<Figure size 1440x288 with 1 Axes>"
      ]
     },
     "metadata": {
      "needs_background": "light"
     },
     "output_type": "display_data"
    }
   ],
   "source": [
    "x=['furniture_decor','bed_bath_table','sports_leisure','health_beauty','housewares','watches_gifts','computers_accessories','garden_tools','vehicle_related_product','office_furniture']\n",
    "values=[13.27,14.15,14.25,8.83,11.18,10.58,11.79,6.66,6.44,2.86]\n",
    "plt.figure(figsize=(20,4))\n",
    "plt.ylim(0,24)\n",
    "plt.title(\"Santa Catarina orders for top 10 categories\")\n",
    "colors = sns.color_palette('gist_earth',len(x))\n",
    "plt.bar(x,values,color=colors)                         #산타 카타리나 카테고리별 주문 건수\n",
    "plt.gca().spines['right'].set_visible(False) #오른쪽 테두리 제거\n",
    "plt.gca().spines['top'].set_visible(False) #위 테두리 제거\n",
    "plt.gca().spines['left'].set_visible(False) #왼쪽 테두리 제거"
   ]
  },
  {
   "cell_type": "code",
   "execution_count": 44,
   "id": "e2527418",
   "metadata": {},
   "outputs": [
    {
     "data": {
      "text/html": [
       "<div>\n",
       "<style scoped>\n",
       "    .dataframe tbody tr th:only-of-type {\n",
       "        vertical-align: middle;\n",
       "    }\n",
       "\n",
       "    .dataframe tbody tr th {\n",
       "        vertical-align: top;\n",
       "    }\n",
       "\n",
       "    .dataframe thead th {\n",
       "        text-align: right;\n",
       "    }\n",
       "</style>\n",
       "<table border=\"1\" class=\"dataframe\">\n",
       "  <thead>\n",
       "    <tr style=\"text-align: right;\">\n",
       "      <th></th>\n",
       "      <th>order_id</th>\n",
       "    </tr>\n",
       "    <tr>\n",
       "      <th>product_category_name_english</th>\n",
       "      <th></th>\n",
       "    </tr>\n",
       "  </thead>\n",
       "  <tbody>\n",
       "    <tr>\n",
       "      <th>bed_bath_table</th>\n",
       "      <td>57434</td>\n",
       "    </tr>\n",
       "    <tr>\n",
       "      <th>computers_accessories</th>\n",
       "      <td>47843</td>\n",
       "    </tr>\n",
       "    <tr>\n",
       "      <th>furniture_decor</th>\n",
       "      <td>48906</td>\n",
       "    </tr>\n",
       "    <tr>\n",
       "      <th>garden_tools</th>\n",
       "      <td>23537</td>\n",
       "    </tr>\n",
       "    <tr>\n",
       "      <th>health_beauty</th>\n",
       "      <td>44034</td>\n",
       "    </tr>\n",
       "    <tr>\n",
       "      <th>housewares</th>\n",
       "      <td>26666</td>\n",
       "    </tr>\n",
       "    <tr>\n",
       "      <th>office_furniture</th>\n",
       "      <td>22893</td>\n",
       "    </tr>\n",
       "    <tr>\n",
       "      <th>sports_leisure</th>\n",
       "      <td>40431</td>\n",
       "    </tr>\n",
       "    <tr>\n",
       "      <th>vehicle_related_product</th>\n",
       "      <td>17626</td>\n",
       "    </tr>\n",
       "    <tr>\n",
       "      <th>watches_gifts</th>\n",
       "      <td>25652</td>\n",
       "    </tr>\n",
       "  </tbody>\n",
       "</table>\n",
       "</div>"
      ],
      "text/plain": [
       "                               order_id\n",
       "product_category_name_english          \n",
       "bed_bath_table                    57434\n",
       "computers_accessories             47843\n",
       "furniture_decor                   48906\n",
       "garden_tools                      23537\n",
       "health_beauty                     44034\n",
       "housewares                        26666\n",
       "office_furniture                  22893\n",
       "sports_leisure                    40431\n",
       "vehicle_related_product           17626\n",
       "watches_gifts                     25652"
      ]
     },
     "execution_count": 44,
     "metadata": {},
     "output_type": "execute_result"
    }
   ],
   "source": [
    "BA"
   ]
  },
  {
   "cell_type": "code",
   "execution_count": 45,
   "id": "d2c89409",
   "metadata": {},
   "outputs": [
    {
     "data": {
      "image/png": "[encoded data removed]",
      "text/plain": [
       "<Figure size 1440x288 with 1 Axes>"
      ]
     },
     "metadata": {
      "needs_background": "light"
     },
     "output_type": "display_data"
    }
   ],
   "source": [
    "x=['furniture_decor','bed_bath_table','sports_leisure','health_beauty','housewares','watches_gifts','computers_accessories','garden_tools','vehicle_related_product','office_furniture']\n",
    "values=[13.78,16.18,11.39,12.4,7.51,7.23,13.48,6.63,4.96,6.45]\n",
    "plt.figure(figsize=(20,4))\n",
    "plt.ylim(0,24)\n",
    "plt.title(\"Bahia orders for top 10 categories\")\n",
    "colors = sns.color_palette('gist_earth',len(x))\n",
    "plt.bar(x,values,color=colors)                         #바이아 주 카테고리별 주문 건수\n",
    "plt.gca().spines['right'].set_visible(False) #오른쪽 테두리 제거\n",
    "plt.gca().spines['top'].set_visible(False) #위 테두리 제거\n",
    "plt.gca().spines['left'].set_visible(False) #왼쪽 테두리 제거"
   ]
  },
  {
   "cell_type": "code",
   "execution_count": 46,
   "id": "b50fb72a",
   "metadata": {},
   "outputs": [
    {
     "data": {
      "text/html": [
       "<div>\n",
       "<style scoped>\n",
       "    .dataframe tbody tr th:only-of-type {\n",
       "        vertical-align: middle;\n",
       "    }\n",
       "\n",
       "    .dataframe tbody tr th {\n",
       "        vertical-align: top;\n",
       "    }\n",
       "\n",
       "    .dataframe thead th {\n",
       "        text-align: right;\n",
       "    }\n",
       "</style>\n",
       "<table border=\"1\" class=\"dataframe\">\n",
       "  <thead>\n",
       "    <tr style=\"text-align: right;\">\n",
       "      <th></th>\n",
       "      <th>order_id</th>\n",
       "    </tr>\n",
       "    <tr>\n",
       "      <th>product_category_name_english</th>\n",
       "      <th></th>\n",
       "    </tr>\n",
       "  </thead>\n",
       "  <tbody>\n",
       "    <tr>\n",
       "      <th>bed_bath_table</th>\n",
       "      <td>45327</td>\n",
       "    </tr>\n",
       "    <tr>\n",
       "      <th>computers_accessories</th>\n",
       "      <td>31576</td>\n",
       "    </tr>\n",
       "    <tr>\n",
       "      <th>furniture_decor</th>\n",
       "      <td>34825</td>\n",
       "    </tr>\n",
       "    <tr>\n",
       "      <th>garden_tools</th>\n",
       "      <td>28283</td>\n",
       "    </tr>\n",
       "    <tr>\n",
       "      <th>health_beauty</th>\n",
       "      <td>30282</td>\n",
       "    </tr>\n",
       "    <tr>\n",
       "      <th>housewares</th>\n",
       "      <td>21729</td>\n",
       "    </tr>\n",
       "    <tr>\n",
       "      <th>office_furniture</th>\n",
       "      <td>3875</td>\n",
       "    </tr>\n",
       "    <tr>\n",
       "      <th>sports_leisure</th>\n",
       "      <td>35827</td>\n",
       "    </tr>\n",
       "    <tr>\n",
       "      <th>vehicle_related_product</th>\n",
       "      <td>12170</td>\n",
       "    </tr>\n",
       "    <tr>\n",
       "      <th>watches_gifts</th>\n",
       "      <td>25577</td>\n",
       "    </tr>\n",
       "  </tbody>\n",
       "</table>\n",
       "</div>"
      ],
      "text/plain": [
       "                               order_id\n",
       "product_category_name_english          \n",
       "bed_bath_table                    45327\n",
       "computers_accessories             31576\n",
       "furniture_decor                   34825\n",
       "garden_tools                      28283\n",
       "health_beauty                     30282\n",
       "housewares                        21729\n",
       "office_furniture                   3875\n",
       "sports_leisure                    35827\n",
       "vehicle_related_product           12170\n",
       "watches_gifts                     25577"
      ]
     },
     "execution_count": 46,
     "metadata": {},
     "output_type": "execute_result"
    }
   ],
   "source": [
    "ES"
   ]
  },
  {
   "cell_type": "code",
   "execution_count": 47,
   "id": "1cf6f9e3",
   "metadata": {
    "scrolled": true
   },
   "outputs": [
    {
     "data": {
      "image/png": "[encoded data removed]",
      "text/plain": [
       "<Figure size 1440x288 with 1 Axes>"
      ]
     },
     "metadata": {
      "needs_background": "light"
     },
     "output_type": "display_data"
    }
   ],
   "source": [
    "x=['furniture_decor','bed_bath_table','sports_leisure','health_beauty','housewares','watches_gifts','computers_accessories','garden_tools','vehicle_related_product','office_furniture']\n",
    "values=[12.92,16.82,13.3,11.24,8.06,9.49,11.72,10.5,4.52,1.44]\n",
    "plt.figure(figsize=(20,4))\n",
    "plt.ylim(0,24)\n",
    "plt.title(\"Espirito Santo orders for top 10 categories\")\n",
    "colors = sns.color_palette('gist_earth',len(x))\n",
    "plt.bar(x,values,color=colors)                         #에스피리토 산토 주 카테고리별 주문 건수\n",
    "plt.gca().spines['right'].set_visible(False) #오른쪽 테두리 제거\n",
    "plt.gca().spines['top'].set_visible(False) #위 테두리 제거\n",
    "plt.gca().spines['left'].set_visible(False) #왼쪽 테두리 제거"
   ]
  },
  {
   "cell_type": "code",
   "execution_count": 48,
   "id": "e10952f3",
   "metadata": {},
   "outputs": [],
   "source": [
    "# 10개의 상위 카테고리 선정에 대한 데이터 분석\n",
    "# 카테고리별 주문 건수(양적 지표)와 카테고리별 주문 금액의 중앙값(질적지표)를 모두 반영하였을 때 상위 10개의 카테고리를 선정\n",
    "datadata = pd.pivot_table(data,index=['product_category_name_english'], \n",
    "               values='order_status', \n",
    "               aggfunc='count')\n",
    "qualityquantity = pd.merge(revenue_median, datadata, on=\"product_category_name_english\", how=\"left\")\n",
    "qualityquantity['importancy']=qualityquantity['payment_value']*qualityquantity['order_status']\n",
    "qualityquantity=qualityquantity.sort_values(by='importancy',ascending=False).head(10)"
   ]
  },
  {
   "cell_type": "code",
   "execution_count": 49,
   "id": "836a6dab",
   "metadata": {},
   "outputs": [
    {
     "data": {
      "image/png": "[encoded data removed]",
      "text/plain": [
       "<Figure size 1440x288 with 1 Axes>"
      ]
     },
     "metadata": {
      "needs_background": "light"
     },
     "output_type": "display_data"
    }
   ],
   "source": [
    "x=['furniture_decor','bed_bath_table','computers_accessories','housewares','health_beauty','office_furniture','sports_leisure','garden_tools','watches_gifts','vehicle_related_product']\n",
    "values=[2228571,2151200,1983671,1466008,1446355,1423146,1358255,1183184,1170685,747914]\n",
    "plt.figure(figsize=(20,4))\n",
    "plt.title(\"Olist Revenue TOP 10 Category\")\n",
    "colors = sns.color_palette('gist_earth',len(x))\n",
    "plt.bar(x,values,color=colors)                         \n",
    "plt.gca().spines['right'].set_visible(False) #오른쪽 테두리 제거\n",
    "plt.gca().spines['top'].set_visible(False) #위 테두리 제거\n",
    "plt.gca().spines['left'].set_visible(False) #왼쪽 테두리 제거"
   ]
  }
 ],
 "metadata": {
  "kernelspec": {
   "display_name": "Python 3 (ipykernel)",
   "language": "python",
   "name": "python3"
  },
  "language_info": {
   "codemirror_mode": {
    "name": "ipython",
    "version": 3
   },
   "file_extension": ".py",
   "mimetype": "text/x-python",
   "name": "python",
   "nbconvert_exporter": "python",
   "pygments_lexer": "ipython3",
   "version": "3.7.1"
  }
 },
 "nbformat": 4,
 "nbformat_minor": 5
}
